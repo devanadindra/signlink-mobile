{
 "cells": [
  {
   "cell_type": "code",
   "execution_count": null,
   "id": "6e0dddd2",
   "metadata": {},
   "outputs": [
    {
     "name": "stdout",
     "output_type": "stream",
     "text": [
      "✅ Labels saved di ../../dataset/labels_images.csv\n",
      "Labels: ['A', 'B', 'C', 'D', 'E', 'F', 'G', 'H', 'I', 'J', 'K', 'L', 'M', 'N', 'O', 'P', 'Q', 'R', 'S', 'T', 'U', 'V', 'W', 'X', 'Y', 'Z']\n"
     ]
    }
   ],
   "source": [
    "import os\n",
    "import csv\n",
    "from dotenv import load_dotenv\n",
    "\n",
    "load_dotenv()\n",
    "\n",
    "sibi_path = os.getenv(\"SIBI_PATH\")\n",
    "bisindo_path = os.getenv(\"BISINDO_PATH\")\n",
    "\n",
    "# ====== Folder dataset ======\n",
    "raw_dirs = [sibi_path, bisindo_path]\n",
    "csv_file = \"../../dataset/labels_images.csv\"\n",
    "\n",
    "labels_set = set()\n",
    "for raw_dir in raw_dirs:\n",
    "    for d in os.listdir(raw_dir):\n",
    "        if os.path.isdir(os.path.join(raw_dir, d)):\n",
    "            labels_set.add(d)\n",
    "\n",
    "labels = sorted(list(labels_set))\n",
    "\n",
    "with open(csv_file, \"w\", newline=\"\") as f:\n",
    "    writer = csv.writer(f)\n",
    "    writer.writerow([\"label\"])\n",
    "    for label in labels:\n",
    "        writer.writerow([label])\n",
    "\n",
    "print(\"✅ Labels saved di\", csv_file)\n",
    "print(\"Labels:\", labels)\n"
   ]
  }
 ],
 "metadata": {
  "kernelspec": {
   "display_name": "slenv",
   "language": "python",
   "name": "python3"
  },
  "language_info": {
   "codemirror_mode": {
    "name": "ipython",
    "version": 3
   },
   "file_extension": ".py",
   "mimetype": "text/x-python",
   "name": "python",
   "nbconvert_exporter": "python",
   "pygments_lexer": "ipython3",
   "version": "3.10.18"
  }
 },
 "nbformat": 4,
 "nbformat_minor": 5
}
