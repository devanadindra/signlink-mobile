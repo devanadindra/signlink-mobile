{
 "cells": [
  {
   "cell_type": "code",
   "execution_count": 2,
   "id": "a6b27a60",
   "metadata": {},
   "outputs": [
    {
     "name": "stdout",
     "output_type": "stream",
     "text": [
      "Found existing installation: mediapipe 0.10.14\n",
      "Uninstalling mediapipe-0.10.14:\n",
      "  Successfully uninstalled mediapipe-0.10.14\n",
      "Note: you may need to restart the kernel to use updated packages.\n"
     ]
    }
   ],
   "source": [
    "%pip uninstall mediapipe -y\n"
   ]
  },
  {
   "cell_type": "code",
   "execution_count": 2,
   "id": "0f4954a0",
   "metadata": {},
   "outputs": [
    {
     "name": "stdout",
     "output_type": "stream",
     "text": [
      "Collecting python-dotenv\n",
      "  Using cached python_dotenv-1.1.1-py3-none-any.whl.metadata (24 kB)\n",
      "Requirement already satisfied: numpy==1.26.4 in /opt/anaconda3/envs/slenv/lib/python3.10/site-packages (1.26.4)\n",
      "Requirement already satisfied: opencv-python==4.9.0.80 in /opt/anaconda3/envs/slenv/lib/python3.10/site-packages (4.9.0.80)\n",
      "Requirement already satisfied: mediapipe==0.10.8 in /opt/anaconda3/envs/slenv/lib/python3.10/site-packages (0.10.8)\n",
      "Requirement already satisfied: tensorflow-macos==2.15.0 in /opt/anaconda3/envs/slenv/lib/python3.10/site-packages (2.15.0)\n",
      "Requirement already satisfied: ml-dtypes==0.2.0 in /opt/anaconda3/envs/slenv/lib/python3.10/site-packages (0.2.0)\n",
      "Requirement already satisfied: absl-py in /opt/anaconda3/envs/slenv/lib/python3.10/site-packages (from mediapipe==0.10.8) (2.3.1)\n",
      "Requirement already satisfied: attrs>=19.1.0 in /opt/anaconda3/envs/slenv/lib/python3.10/site-packages (from mediapipe==0.10.8) (25.4.0)\n",
      "Requirement already satisfied: flatbuffers>=2.0 in /opt/anaconda3/envs/slenv/lib/python3.10/site-packages (from mediapipe==0.10.8) (25.9.23)\n",
      "Requirement already satisfied: matplotlib in /opt/anaconda3/envs/slenv/lib/python3.10/site-packages (from mediapipe==0.10.8) (3.10.7)\n",
      "Requirement already satisfied: opencv-contrib-python in /opt/anaconda3/envs/slenv/lib/python3.10/site-packages (from mediapipe==0.10.8) (4.11.0.86)\n",
      "Requirement already satisfied: protobuf<4,>=3.11 in /opt/anaconda3/envs/slenv/lib/python3.10/site-packages (from mediapipe==0.10.8) (3.20.3)\n",
      "Requirement already satisfied: sounddevice>=0.4.4 in /opt/anaconda3/envs/slenv/lib/python3.10/site-packages (from mediapipe==0.10.8) (0.5.2)\n",
      "Requirement already satisfied: astunparse>=1.6.0 in /opt/anaconda3/envs/slenv/lib/python3.10/site-packages (from tensorflow-macos==2.15.0) (1.6.3)\n",
      "Requirement already satisfied: gast!=0.5.0,!=0.5.1,!=0.5.2,>=0.2.1 in /opt/anaconda3/envs/slenv/lib/python3.10/site-packages (from tensorflow-macos==2.15.0) (0.6.0)\n",
      "Requirement already satisfied: google-pasta>=0.1.1 in /opt/anaconda3/envs/slenv/lib/python3.10/site-packages (from tensorflow-macos==2.15.0) (0.2.0)\n",
      "Requirement already satisfied: h5py>=2.9.0 in /opt/anaconda3/envs/slenv/lib/python3.10/site-packages (from tensorflow-macos==2.15.0) (3.15.0)\n",
      "Requirement already satisfied: libclang>=13.0.0 in /opt/anaconda3/envs/slenv/lib/python3.10/site-packages (from tensorflow-macos==2.15.0) (18.1.1)\n",
      "Requirement already satisfied: opt-einsum>=2.3.2 in /opt/anaconda3/envs/slenv/lib/python3.10/site-packages (from tensorflow-macos==2.15.0) (3.4.0)\n",
      "Requirement already satisfied: packaging in /opt/anaconda3/envs/slenv/lib/python3.10/site-packages (from tensorflow-macos==2.15.0) (25.0)\n",
      "Requirement already satisfied: setuptools in /opt/anaconda3/envs/slenv/lib/python3.10/site-packages (from tensorflow-macos==2.15.0) (80.9.0)\n",
      "Requirement already satisfied: six>=1.12.0 in /opt/anaconda3/envs/slenv/lib/python3.10/site-packages (from tensorflow-macos==2.15.0) (1.17.0)\n",
      "Requirement already satisfied: termcolor>=1.1.0 in /opt/anaconda3/envs/slenv/lib/python3.10/site-packages (from tensorflow-macos==2.15.0) (3.1.0)\n",
      "Requirement already satisfied: typing-extensions>=3.6.6 in /opt/anaconda3/envs/slenv/lib/python3.10/site-packages (from tensorflow-macos==2.15.0) (4.15.0)\n",
      "Requirement already satisfied: wrapt<1.15,>=1.11.0 in /opt/anaconda3/envs/slenv/lib/python3.10/site-packages (from tensorflow-macos==2.15.0) (1.14.2)\n",
      "Requirement already satisfied: tensorflow-io-gcs-filesystem>=0.23.1 in /opt/anaconda3/envs/slenv/lib/python3.10/site-packages (from tensorflow-macos==2.15.0) (0.37.1)\n",
      "Requirement already satisfied: grpcio<2.0,>=1.24.3 in /opt/anaconda3/envs/slenv/lib/python3.10/site-packages (from tensorflow-macos==2.15.0) (1.75.1)\n",
      "Requirement already satisfied: tensorboard<2.16,>=2.15 in /opt/anaconda3/envs/slenv/lib/python3.10/site-packages (from tensorflow-macos==2.15.0) (2.15.2)\n",
      "Requirement already satisfied: tensorflow-estimator<2.16,>=2.15.0 in /opt/anaconda3/envs/slenv/lib/python3.10/site-packages (from tensorflow-macos==2.15.0) (2.15.0)\n",
      "Requirement already satisfied: keras<2.16,>=2.15.0 in /opt/anaconda3/envs/slenv/lib/python3.10/site-packages (from tensorflow-macos==2.15.0) (2.15.0)\n",
      "Requirement already satisfied: google-auth<3,>=1.6.3 in /opt/anaconda3/envs/slenv/lib/python3.10/site-packages (from tensorboard<2.16,>=2.15->tensorflow-macos==2.15.0) (2.41.1)\n",
      "Requirement already satisfied: google-auth-oauthlib<2,>=0.5 in /opt/anaconda3/envs/slenv/lib/python3.10/site-packages (from tensorboard<2.16,>=2.15->tensorflow-macos==2.15.0) (1.2.2)\n",
      "Requirement already satisfied: markdown>=2.6.8 in /opt/anaconda3/envs/slenv/lib/python3.10/site-packages (from tensorboard<2.16,>=2.15->tensorflow-macos==2.15.0) (3.9)\n",
      "Requirement already satisfied: requests<3,>=2.21.0 in /opt/anaconda3/envs/slenv/lib/python3.10/site-packages (from tensorboard<2.16,>=2.15->tensorflow-macos==2.15.0) (2.32.5)\n",
      "Requirement already satisfied: tensorboard-data-server<0.8.0,>=0.7.0 in /opt/anaconda3/envs/slenv/lib/python3.10/site-packages (from tensorboard<2.16,>=2.15->tensorflow-macos==2.15.0) (0.7.2)\n",
      "Requirement already satisfied: werkzeug>=1.0.1 in /opt/anaconda3/envs/slenv/lib/python3.10/site-packages (from tensorboard<2.16,>=2.15->tensorflow-macos==2.15.0) (3.1.3)\n",
      "Requirement already satisfied: cachetools<7.0,>=2.0.0 in /opt/anaconda3/envs/slenv/lib/python3.10/site-packages (from google-auth<3,>=1.6.3->tensorboard<2.16,>=2.15->tensorflow-macos==2.15.0) (6.2.1)\n",
      "Requirement already satisfied: pyasn1-modules>=0.2.1 in /opt/anaconda3/envs/slenv/lib/python3.10/site-packages (from google-auth<3,>=1.6.3->tensorboard<2.16,>=2.15->tensorflow-macos==2.15.0) (0.4.2)\n",
      "Requirement already satisfied: rsa<5,>=3.1.4 in /opt/anaconda3/envs/slenv/lib/python3.10/site-packages (from google-auth<3,>=1.6.3->tensorboard<2.16,>=2.15->tensorflow-macos==2.15.0) (4.9.1)\n",
      "Requirement already satisfied: requests-oauthlib>=0.7.0 in /opt/anaconda3/envs/slenv/lib/python3.10/site-packages (from google-auth-oauthlib<2,>=0.5->tensorboard<2.16,>=2.15->tensorflow-macos==2.15.0) (2.0.0)\n",
      "Requirement already satisfied: charset_normalizer<4,>=2 in /opt/anaconda3/envs/slenv/lib/python3.10/site-packages (from requests<3,>=2.21.0->tensorboard<2.16,>=2.15->tensorflow-macos==2.15.0) (3.4.3)\n",
      "Requirement already satisfied: idna<4,>=2.5 in /opt/anaconda3/envs/slenv/lib/python3.10/site-packages (from requests<3,>=2.21.0->tensorboard<2.16,>=2.15->tensorflow-macos==2.15.0) (3.11)\n",
      "Requirement already satisfied: urllib3<3,>=1.21.1 in /opt/anaconda3/envs/slenv/lib/python3.10/site-packages (from requests<3,>=2.21.0->tensorboard<2.16,>=2.15->tensorflow-macos==2.15.0) (2.5.0)\n",
      "Requirement already satisfied: certifi>=2017.4.17 in /opt/anaconda3/envs/slenv/lib/python3.10/site-packages (from requests<3,>=2.21.0->tensorboard<2.16,>=2.15->tensorflow-macos==2.15.0) (2025.10.5)\n",
      "Requirement already satisfied: pyasn1>=0.1.3 in /opt/anaconda3/envs/slenv/lib/python3.10/site-packages (from rsa<5,>=3.1.4->google-auth<3,>=1.6.3->tensorboard<2.16,>=2.15->tensorflow-macos==2.15.0) (0.6.1)\n",
      "Requirement already satisfied: wheel<1.0,>=0.23.0 in /opt/anaconda3/envs/slenv/lib/python3.10/site-packages (from astunparse>=1.6.0->tensorflow-macos==2.15.0) (0.45.1)\n",
      "Requirement already satisfied: oauthlib>=3.0.0 in /opt/anaconda3/envs/slenv/lib/python3.10/site-packages (from requests-oauthlib>=0.7.0->google-auth-oauthlib<2,>=0.5->tensorboard<2.16,>=2.15->tensorflow-macos==2.15.0) (3.3.1)\n",
      "Requirement already satisfied: CFFI>=1.0 in /opt/anaconda3/envs/slenv/lib/python3.10/site-packages (from sounddevice>=0.4.4->mediapipe==0.10.8) (2.0.0)\n",
      "Requirement already satisfied: pycparser in /opt/anaconda3/envs/slenv/lib/python3.10/site-packages (from CFFI>=1.0->sounddevice>=0.4.4->mediapipe==0.10.8) (2.23)\n",
      "Requirement already satisfied: MarkupSafe>=2.1.1 in /opt/anaconda3/envs/slenv/lib/python3.10/site-packages (from werkzeug>=1.0.1->tensorboard<2.16,>=2.15->tensorflow-macos==2.15.0) (3.0.3)\n",
      "Requirement already satisfied: contourpy>=1.0.1 in /opt/anaconda3/envs/slenv/lib/python3.10/site-packages (from matplotlib->mediapipe==0.10.8) (1.3.2)\n",
      "Requirement already satisfied: cycler>=0.10 in /opt/anaconda3/envs/slenv/lib/python3.10/site-packages (from matplotlib->mediapipe==0.10.8) (0.12.1)\n",
      "Requirement already satisfied: fonttools>=4.22.0 in /opt/anaconda3/envs/slenv/lib/python3.10/site-packages (from matplotlib->mediapipe==0.10.8) (4.60.1)\n",
      "Requirement already satisfied: kiwisolver>=1.3.1 in /opt/anaconda3/envs/slenv/lib/python3.10/site-packages (from matplotlib->mediapipe==0.10.8) (1.4.9)\n",
      "Requirement already satisfied: pillow>=8 in /opt/anaconda3/envs/slenv/lib/python3.10/site-packages (from matplotlib->mediapipe==0.10.8) (11.3.0)\n",
      "Requirement already satisfied: pyparsing>=3 in /opt/anaconda3/envs/slenv/lib/python3.10/site-packages (from matplotlib->mediapipe==0.10.8) (3.2.5)\n",
      "Requirement already satisfied: python-dateutil>=2.7 in /opt/anaconda3/envs/slenv/lib/python3.10/site-packages (from matplotlib->mediapipe==0.10.8) (2.9.0.post0)\n",
      "Downloading python_dotenv-1.1.1-py3-none-any.whl (20 kB)\n",
      "Installing collected packages: python-dotenv\n",
      "Successfully installed python-dotenv-1.1.1\n",
      "Note: you may need to restart the kernel to use updated packages.\n"
     ]
    }
   ],
   "source": [
    "%pip install python-dotenv numpy==1.26.4 opencv-python==4.9.0.80 mediapipe==0.10.8 tensorflow-macos==2.15.0 ml-dtypes==0.2.0"
   ]
  }
 ],
 "metadata": {
  "kernelspec": {
   "display_name": "slenv",
   "language": "python",
   "name": "python3"
  },
  "language_info": {
   "codemirror_mode": {
    "name": "ipython",
    "version": 3
   },
   "file_extension": ".py",
   "mimetype": "text/x-python",
   "name": "python",
   "nbconvert_exporter": "python",
   "pygments_lexer": "ipython3",
   "version": "3.10.18"
  }
 },
 "nbformat": 4,
 "nbformat_minor": 5
}
