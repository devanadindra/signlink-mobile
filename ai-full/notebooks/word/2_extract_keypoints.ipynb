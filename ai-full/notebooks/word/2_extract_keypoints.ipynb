{
 "cells": [
  {
   "cell_type": "code",
   "execution_count": null,
   "id": "9194e345",
   "metadata": {},
   "outputs": [
    {
     "name": "stdout",
     "output_type": "stream",
     "text": [
      "Processing temp_videos/aku_5.mp4 ...\n"
     ]
    },
    {
     "name": "stderr",
     "output_type": "stream",
     "text": [
      "I0000 00:00:1760372120.282396       1 gl_context.cc:344] GL version: 2.1 (2.1 Metal - 89.3), renderer: Apple M3\n"
     ]
    },
    {
     "name": "stdout",
     "output_type": "stream",
     "text": [
      "✅ Saved keypoints di ../dataset/processed/aku/aku_5.npy\n",
      "Processing temp_videos/aku_4.mp4 ...\n"
     ]
    },
    {
     "name": "stderr",
     "output_type": "stream",
     "text": [
      "I0000 00:00:1760372124.699198       1 gl_context.cc:344] GL version: 2.1 (2.1 Metal - 89.3), renderer: Apple M3\n"
     ]
    },
    {
     "name": "stdout",
     "output_type": "stream",
     "text": [
      "✅ Saved keypoints di ../dataset/processed/aku/aku_4.npy\n",
      "Processing temp_videos/aku_6.mp4 ...\n"
     ]
    },
    {
     "name": "stderr",
     "output_type": "stream",
     "text": [
      "I0000 00:00:1760372129.213536       1 gl_context.cc:344] GL version: 2.1 (2.1 Metal - 89.3), renderer: Apple M3\n"
     ]
    },
    {
     "name": "stdout",
     "output_type": "stream",
     "text": [
      "✅ Saved keypoints di ../dataset/processed/aku/aku_6.npy\n",
      "Processing temp_videos/aku_3.mp4 ...\n"
     ]
    },
    {
     "name": "stderr",
     "output_type": "stream",
     "text": [
      "I0000 00:00:1760372133.986687       1 gl_context.cc:344] GL version: 2.1 (2.1 Metal - 89.3), renderer: Apple M3\n"
     ]
    },
    {
     "name": "stdout",
     "output_type": "stream",
     "text": [
      "✅ Saved keypoints di ../dataset/processed/aku/aku_3.npy\n",
      "Processing temp_videos/aku_2.mp4 ...\n"
     ]
    },
    {
     "name": "stderr",
     "output_type": "stream",
     "text": [
      "I0000 00:00:1760372139.296181       1 gl_context.cc:344] GL version: 2.1 (2.1 Metal - 89.3), renderer: Apple M3\n"
     ]
    },
    {
     "name": "stdout",
     "output_type": "stream",
     "text": [
      "✅ Saved keypoints di ../dataset/processed/aku/aku_2.npy\n",
      "Processing temp_videos/aku_1.mp4 ...\n"
     ]
    },
    {
     "name": "stderr",
     "output_type": "stream",
     "text": [
      "I0000 00:00:1760372144.578936       1 gl_context.cc:344] GL version: 2.1 (2.1 Metal - 89.3), renderer: Apple M3\n"
     ]
    },
    {
     "name": "stdout",
     "output_type": "stream",
     "text": [
      "✅ Saved keypoints di ../dataset/processed/aku/aku_1.npy\n",
      "Processing temp_videos/hai_1.mp4 ...\n"
     ]
    },
    {
     "name": "stderr",
     "output_type": "stream",
     "text": [
      "I0000 00:00:1760372150.017457       1 gl_context.cc:344] GL version: 2.1 (2.1 Metal - 89.3), renderer: Apple M3\n"
     ]
    },
    {
     "name": "stdout",
     "output_type": "stream",
     "text": [
      "✅ Saved keypoints di ../dataset/processed/hai/hai_1.npy\n",
      "Processing temp_videos/hai_2.mp4 ...\n"
     ]
    },
    {
     "name": "stderr",
     "output_type": "stream",
     "text": [
      "I0000 00:00:1760372156.084629       1 gl_context.cc:344] GL version: 2.1 (2.1 Metal - 89.3), renderer: Apple M3\n"
     ]
    },
    {
     "name": "stdout",
     "output_type": "stream",
     "text": [
      "✅ Saved keypoints di ../dataset/processed/hai/hai_2.npy\n",
      "Processing temp_videos/hai_3.mp4 ...\n"
     ]
    },
    {
     "name": "stderr",
     "output_type": "stream",
     "text": [
      "I0000 00:00:1760372160.858391       1 gl_context.cc:344] GL version: 2.1 (2.1 Metal - 89.3), renderer: Apple M3\n"
     ]
    },
    {
     "name": "stdout",
     "output_type": "stream",
     "text": [
      "✅ Saved keypoints di ../dataset/processed/hai/hai_3.npy\n",
      "Processing temp_videos/hai_4.mp4 ...\n"
     ]
    },
    {
     "name": "stderr",
     "output_type": "stream",
     "text": [
      "I0000 00:00:1760372165.545169       1 gl_context.cc:344] GL version: 2.1 (2.1 Metal - 89.3), renderer: Apple M3\n"
     ]
    },
    {
     "name": "stdout",
     "output_type": "stream",
     "text": [
      "✅ Saved keypoints di ../dataset/processed/hai/hai_4.npy\n"
     ]
    }
   ],
   "source": [
    "import mediapipe as mp\n",
    "import cv2\n",
    "import numpy as np\n",
    "import os\n",
    "from dotenv import load_dotenv\n",
    "\n",
    "load_dotenv()\n",
    "\n",
    "os.environ['TF_CPP_MIN_LOG_LEVEL'] = '3'\n",
    "mp_holistic = mp.solutions.holistic\n",
    "\n",
    "word_path = os.getenv(\"WORD_PATH\")\n",
    "\n",
    "raw_dirs = [\n",
    "    word_path\n",
    "]\n",
    "processed_dir = \"../../dataset/processed_words\"\n",
    "os.makedirs(processed_dir, exist_ok=True)\n",
    "\n",
    "def extract_keypoints(video_path):\n",
    "    cap = cv2.VideoCapture(video_path)\n",
    "    holistic = mp_holistic.Holistic()\n",
    "    keypoints = []\n",
    "\n",
    "    while cap.isOpened():\n",
    "        ret, frame = cap.read()\n",
    "        if not ret:\n",
    "            break\n",
    "        frame_rgb = cv2.cvtColor(frame, cv2.COLOR_BGR2RGB)\n",
    "        results = holistic.process(frame_rgb)\n",
    "\n",
    "        pose = np.array([[lm.x, lm.y, lm.z] for lm in results.pose_landmarks.landmark]).flatten() \\\n",
    "            if results.pose_landmarks else np.zeros(33*3)\n",
    "        lh = np.array([[lm.x, lm.y, lm.z] for lm in results.left_hand_landmarks.landmark]).flatten() \\\n",
    "            if results.left_hand_landmarks else np.zeros(21*3)\n",
    "        rh = np.array([[lm.x, lm.y, lm.z] for lm in results.right_hand_landmarks.landmark]).flatten() \\\n",
    "            if results.right_hand_landmarks else np.zeros(21*3)\n",
    "\n",
    "        frame_kp = np.concatenate([pose, lh, rh])\n",
    "        keypoints.append(frame_kp)\n",
    "\n",
    "    cap.release()\n",
    "    holistic.close()\n",
    "    return np.array(keypoints, dtype=np.float16)\n",
    "\n",
    "# ====== Proses semua video ======\n",
    "for label in os.listdir(raw_dir):\n",
    "    label_path = os.path.join(raw_dir, label)\n",
    "    if not os.path.isdir(label_path):\n",
    "        continue\n",
    "\n",
    "    target_label_dir = os.path.join(processed_dir, label)\n",
    "    os.makedirs(target_label_dir, exist_ok=True)\n",
    "\n",
    "    for file in os.listdir(label_path):\n",
    "        if file.endswith(\".mp4\"):\n",
    "            video_path = os.path.join(label_path, file)\n",
    "            print(f\"Processing {video_path} ...\")\n",
    "\n",
    "            kp = extract_keypoints(video_path)\n",
    "\n",
    "            save_path = os.path.join(target_label_dir, file.replace(\".mp4\", \".npy\"))\n",
    "            np.save(save_path, kp)\n",
    "            print(f\"✅ Saved keypoints di {save_path}\")\n"
   ]
  }
 ],
 "metadata": {
  "kernelspec": {
   "display_name": "slenv",
   "language": "python",
   "name": "python3"
  },
  "language_info": {
   "codemirror_mode": {
    "name": "ipython",
    "version": 3
   },
   "file_extension": ".py",
   "mimetype": "text/x-python",
   "name": "python",
   "nbconvert_exporter": "python",
   "pygments_lexer": "ipython3",
   "version": "3.10.18"
  }
 },
 "nbformat": 4,
 "nbformat_minor": 5
}
