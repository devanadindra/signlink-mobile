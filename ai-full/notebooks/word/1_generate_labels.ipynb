{
 "cells": [
  {
   "cell_type": "code",
   "execution_count": 3,
   "id": "6e0dddd2",
   "metadata": {},
   "outputs": [
    {
     "name": "stdout",
     "output_type": "stream",
     "text": [
      "✅ Labels saved di ../../dataset/labels_words.csv\n",
      "Labels: ['aku', 'hai', 'kenal', 'nama', 'saya']\n"
     ]
    }
   ],
   "source": [
    "import os\n",
    "import csv\n",
    "from dotenv import load_dotenv\n",
    "\n",
    "load_dotenv()\n",
    "\n",
    "word_path = os.getenv(\"WORD_PATH\")\n",
    "\n",
    "raw_dirs = [\n",
    "    word_path\n",
    "]\n",
    "csv_file = \"../../dataset/labels_words.csv\"\n",
    "\n",
    "labels_set = set()\n",
    "for raw_dir in raw_dirs:\n",
    "    for d in os.listdir(raw_dir):\n",
    "        if os.path.isdir(os.path.join(raw_dir, d)):\n",
    "            labels_set.add(d)\n",
    "\n",
    "labels = sorted(list(labels_set))\n",
    "\n",
    "with open(csv_file, \"w\", newline=\"\") as f:\n",
    "    writer = csv.writer(f)\n",
    "    writer.writerow([\"label\"])\n",
    "    for label in labels:\n",
    "        writer.writerow([label])\n",
    "\n",
    "print(\"✅ Labels saved di\", csv_file)\n",
    "print(\"Labels:\", labels)\n"
   ]
  }
 ],
 "metadata": {
  "kernelspec": {
   "display_name": "slenv",
   "language": "python",
   "name": "python3"
  },
  "language_info": {
   "codemirror_mode": {
    "name": "ipython",
    "version": 3
   },
   "file_extension": ".py",
   "mimetype": "text/x-python",
   "name": "python",
   "nbconvert_exporter": "python",
   "pygments_lexer": "ipython3",
   "version": "3.10.18"
  }
 },
 "nbformat": 4,
 "nbformat_minor": 5
}
