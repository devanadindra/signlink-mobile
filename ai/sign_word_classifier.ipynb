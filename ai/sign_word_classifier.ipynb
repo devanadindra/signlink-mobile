{
 "cells": [
  {
   "cell_type": "markdown",
   "id": "445ddb57",
   "metadata": {},
   "source": [
    "# import and constant"
   ]
  },
  {
   "cell_type": "code",
   "execution_count": null,
   "id": "48f79c79",
   "metadata": {},
   "outputs": [],
   "source": [
    "import os\n",
    "import cv2 # type: ignore\n",
    "import numpy as np # type: ignore\n",
    "from tqdm import tqdm # type: ignore\n",
    "import mediapipe as mp # type: ignore\n",
    "from sklearn.model_selection import train_test_split # type: ignore\n",
    "from sklearn.preprocessing import LabelEncoder # type: ignore\n",
    "from tensorflow.keras.utils import to_categorical # type: ignore\n",
    "import joblib # type: ignore"
   ]
  },
  {
   "cell_type": "code",
   "execution_count": null,
   "id": "1ff4fc09",
   "metadata": {},
   "outputs": [],
   "source": [
    "dataset_dir = './dataset_word'\n",
    "model_name = 'sign_classifier_word'"
   ]
  },
  {
   "cell_type": "markdown",
   "id": "93ff56fb",
   "metadata": {},
   "source": [
    "# Dataset"
   ]
  },
  {
   "cell_type": "code",
   "execution_count": 3,
   "id": "d3980295",
   "metadata": {},
   "outputs": [
    {
     "name": "stdout",
     "output_type": "stream",
     "text": [
      "  % Total    % Received % Xferd  Average Speed   Time    Time     Time  Current\n",
      "                                 Dload  Upload   Total   Spent    Left  Speed\n",
      "  0     0    0     0    0     0      0      0 --:--:-- --:--:-- --:--:--     0\n",
      "100  719M  100  719M    0     0   876k      0  0:14:00  0:14:00 --:--:-- 3882k0:08:45 2235k2789k      0  0:04:24  0:00:10  0:04:14 3168k0  0:04:18  0:00:30  0:03:48 2098k    0  2692k      0  0:04:33  0:00:45  0:03:48 2182k0  0:05:00  0:01:04  0:03:56 1971k5:15  0:01:18  0:03:57 1923k 0:05:19  0:01:22  0:03:57 1779k2315k40k     0  0:05:30  0:01:45  0:03:45  806k0     0  1949k      0  0:06:17  0:02:11  0:04:06  457k5  252M    0     0  1938k      0  0:06:19  0:02:13  0:04:06  778k0     0  1953k      0  0:06:16  0:02:15  0:04:01 1800k 0:02:17  0:03:55 2815k02:58 3627k  0  0:05:51  0:03:26  0:02:25  999k5  760k3  0:02:29  366k24k      0  0:07:06  0:04:24  0:02:42 572750     0  1631k      0  0:07:31  0:04:40  0:02:51  217k  0:08:02  0:05:28  0:02:34  625k  0  1519k      0  0:08:04  0:05:30  0:02:34  565k89k      0  0:08:14  0:05:38  0:02:36  223k  0  1486k      0  0:08:15  0:05:39  0:02:36  188k418k      0  0:08:39  0:05:55  0:02:44 239911402k      0  0:08:45  0:05:59  0:02:46 180340:06:04  0:02:47 3270906:08  0:02:48 67223  0:02:54 55580  0:09:22  0:06:26  0:02:56 14832  0  0:09:49  0:06:45  0:03:04 13653     0  1156k      0  0:10:36  0:07:21  0:03:15  624k1152k      0  0:10:39  0:07:25  0:03:14  721k:45  0:07:32  0:03:13  351k     0  0:11:17  0:07:55  0:03:22 17028  0:07:58  0:03:23  5269001k      0  0:12:15  0:08:38  0:03:37  113k0  0:12:21  0:08:43  0:03:38  140k0     0   969k      0  0:12:39  0:08:57  0:03:42 74698 0   949k      0  0:12:55  0:09:09  0:03:46  101k   944k      0  0:12:59  0:09:14  0:03:45  337k0:03:46  288k46  271k 0     0   910k      0  0:13:28  0:09:39  0:03:49 10218879k      0  0:13:57  0:10:00  0:03:57 41541  840k      0  0:14:36  0:10:30  0:04:06 78073    0   885k      0  0:13:51  0:11:09  0:02:42 3459k     0   909k      0  0:13:29  0:11:30  0:01:59 1074k2  0:01:58  952k870k      0  0:14:05  0:12:54  0:01:11  207k67k      0  0:14:08  0:12:57  0:01:11  193k  0  0:14:11  0:13:03  0:01:08  528k   0   860k      0  0:14:16  0:13:11  0:01:05  319k0  0:14:23  0:13:21  0:01:02  225k  719M   92  668M    0     0   844k      0  0:14:32  0:13:31  0:01:01 56029   93  668M    0     0   839k      0  0:14:37  0:13:36  0:01:01 23083:41  0:13:41  0:01:00  225k    0   835k      0  0:14:41  0:13:44  0:00:57  643k0:13:49  0:00:48 1465k 0     0   850k      0  0:14:26  0:13:53  0:00:33 2928k\n"
     ]
    }
   ],
   "source": [
    "!curl -L -o ./bisindo-40-kata-mp4.zip\\\n",
    "  https://www.kaggle.com/api/v1/datasets/download/anggiyohanespardede/bisindo-40-kata-mp4"
   ]
  },
  {
   "cell_type": "code",
   "execution_count": null,
   "id": "fd44b12f",
   "metadata": {},
   "outputs": [
    {
     "name": "stdout",
     "output_type": "stream",
     "text": [
      "📦 Ekstraksi dataset dari ./bisindo-40-kata-mp4.zip ...\n",
      "✅ Dataset berhasil diekstrak ke ./\n"
     ]
    }
   ],
   "source": [
    "import zipfile\n",
    "import os\n",
    "import platform\n",
    "\n",
    "zip_path = \"./bisindo-40-kata-mp4.zip\"\n",
    "extract_dir = \"./\"\n",
    "\n",
    "if not os.path.exists(zip_path):\n",
    "    raise FileNotFoundError(f\"❌ File tidak ditemukan: {zip_path}\")\n",
    "\n",
    "print(f\"📦 Ekstraksi dataset dari {zip_path} ...\")\n",
    "if platform.system() in [\"Windows\", \"Darwin\", \"Linux\"]:\n",
    "    with zipfile.ZipFile(zip_path, 'r') as zip_ref:\n",
    "        zip_ref.extractall(extract_dir)\n",
    "    print(f\"✅ Dataset berhasil diekstrak ke {extract_dir}\")\n",
    "else:\n",
    "    print(f\"⚠️ OS {platform.system()} belum dikenali, pastikan unzip dilakukan manual.\")\n"
   ]
  },
  {
   "cell_type": "code",
   "execution_count": 14,
   "id": "0afaceb4",
   "metadata": {},
   "outputs": [
    {
     "name": "stdout",
     "output_type": "stream",
     "text": [
      "📂 Memindahkan isi dari 'raw_video' ke './dataset_word' ...\n",
      "✅ Semua isi dari 'raw_video' berhasil dipindahkan ke './dataset_word'\n"
     ]
    }
   ],
   "source": [
    "import os\n",
    "import shutil\n",
    "\n",
    "src_dir = \"raw_video\"\n",
    "dst_dir = dataset_dir\n",
    "\n",
    "if not os.path.exists(src_dir):\n",
    "    raise FileNotFoundError(f\"❌ Folder sumber tidak ditemukan: {src_dir}\")\n",
    "\n",
    "os.makedirs(dst_dir, exist_ok=True)\n",
    "\n",
    "print(f\"📂 Memindahkan isi dari '{src_dir}' ke '{dst_dir}' ...\")\n",
    "\n",
    "for item in os.listdir(src_dir):\n",
    "    src_path = os.path.join(src_dir, item)\n",
    "    dst_path = os.path.join(dst_dir, item)\n",
    "    \n",
    "    if os.path.exists(dst_path):\n",
    "        if os.path.isdir(dst_path):\n",
    "            shutil.rmtree(dst_path)\n",
    "        else:\n",
    "            os.remove(dst_path)\n",
    "\n",
    "    shutil.move(src_path, dst_path)\n",
    "\n",
    "print(f\"✅ Semua isi dari '{src_dir}' berhasil dipindahkan ke '{dst_dir}'\")\n"
   ]
  },
  {
   "cell_type": "code",
   "execution_count": 15,
   "id": "d30e1971",
   "metadata": {},
   "outputs": [
    {
     "name": "stdout",
     "output_type": "stream",
     "text": [
      "🗑️ Menghapus folder: ./raw_video\n",
      "✅ Folder berhasil dihapus.\n"
     ]
    }
   ],
   "source": [
    "import shutil\n",
    "import os\n",
    "\n",
    "folder_path = \"./raw_video\"\n",
    "\n",
    "if os.path.exists(folder_path):\n",
    "    print(f\"🗑️ Menghapus folder: {folder_path}\")\n",
    "    shutil.rmtree(folder_path)\n",
    "    print(\"✅ Folder berhasil dihapus.\")\n",
    "else:\n",
    "    print(\"⚠️ Folder tidak ditemukan, tidak ada yang dihapus.\")"
   ]
  },
  {
   "cell_type": "code",
   "execution_count": null,
   "id": "0126cf61",
   "metadata": {},
   "outputs": [
    {
     "name": "stderr",
     "output_type": "stream",
     "text": [
      "I0000 00:00:1760724147.103175 2071845 gl_context.cc:369] GL version: 2.1 (2.1 Metal - 89.3), renderer: Apple M3\n"
     ]
    },
    {
     "name": "stderr",
     "output_type": "stream",
     "text": [
      "W0000 00:00:1760724147.113520 2096112 inference_feedback_manager.cc:114] Feedback manager requires a model with a single signature inference. Disabling support for feedback tensors.\n",
      "W0000 00:00:1760724147.119965 2096112 inference_feedback_manager.cc:114] Feedback manager requires a model with a single signature inference. Disabling support for feedback tensors.\n"
     ]
    }
   ],
   "source": [
    "mp_hands = mp.solutions.hands\n",
    "hands = mp_hands.Hands(\n",
    "    static_image_mode=False,\n",
    "    max_num_hands=2,\n",
    "    min_detection_confidence=0.5,\n",
    "    min_tracking_confidence=0.5\n",
    ")"
   ]
  },
  {
   "cell_type": "code",
   "execution_count": null,
   "id": "1158f61b",
   "metadata": {},
   "outputs": [],
   "source": [
    "data = []\n",
    "labels = []\n",
    "\n",
    "print(\"🎬 Mulai ekstraksi keypoint dari video...\\n\")\n",
    "\n",
    "for label_folder in tqdm(sorted(os.listdir(dataset_dir))):\n",
    "    folder_path = os.path.join(dataset_dir, label_folder)\n",
    "    if not os.path.isdir(folder_path):\n",
    "        continue\n",
    "\n",
    "    for file in os.listdir(folder_path):\n",
    "        if not file.lower().endswith(\".mp4\"):\n",
    "            continue\n",
    "\n",
    "        video_path = os.path.join(folder_path, file)\n",
    "        cap = cv2.VideoCapture(video_path)\n",
    "\n",
    "        keypoints_seq = []\n",
    "        while True:\n",
    "            ret, frame = cap.read()\n",
    "            if not ret:\n",
    "                break\n",
    "\n",
    "            frame = cv2.cvtColor(frame, cv2.COLOR_BGR2RGB)\n",
    "            results = hands.process(frame)\n",
    "\n",
    "            if results.multi_hand_landmarks:\n",
    "                hand_keypoints = []\n",
    "                for hand_landmarks in results.multi_hand_landmarks:\n",
    "                    hand = []\n",
    "                    for lm in hand_landmarks.landmark:\n",
    "                        hand.extend([lm.x, lm.y, lm.z])\n",
    "                    hand_keypoints.append(hand)\n",
    "\n",
    "                if len(hand_keypoints) == 1:\n",
    "                    hand_keypoints.append([0.0] * 63)\n",
    "\n",
    "                keypoints = np.concatenate(hand_keypoints)\n",
    "            else:\n",
    "                keypoints = np.zeros(126)\n",
    "\n",
    "            keypoints_seq.append(keypoints)\n",
    "\n",
    "        cap.release()\n",
    "\n",
    "        max_len = 30\n",
    "        keypoints_seq = np.array(keypoints_seq)\n",
    "        if len(keypoints_seq) < max_len:\n",
    "            pad = np.zeros((max_len - len(keypoints_seq), keypoints_seq.shape[1]))\n",
    "            keypoints_seq = np.vstack((keypoints_seq, pad))\n",
    "        elif len(keypoints_seq) > max_len:\n",
    "            keypoints_seq = keypoints_seq[:max_len]\n",
    "\n",
    "        data.append(keypoints_seq)\n",
    "        labels.append(label_folder)\n",
    "\n",
    "os.makedirs(\"preprocessing\", exist_ok=True)\n",
    "\n",
    "output_X_path = os.path.join(\"preprocessing\", \"X_word.npy\")\n",
    "output_y_path = os.path.join(\"preprocessing\", \"y_word.npy\")\n",
    "\n",
    "np.save(output_X_path, np.array(data))\n",
    "np.save(output_y_path, np.array(labels))\n",
    "\n",
    "print(f\"\\n✅ Ekstraksi selesai:\")\n",
    "print(f\"📁 Data disimpan ke: {output_X_path}\")\n",
    "print(f\"🏷️ Label disimpan ke: {output_y_path}\")\n",
    "print(f\"🧩 Jumlah sampel: {len(data)}\")"
   ]
  },
  {
   "cell_type": "code",
   "execution_count": null,
   "id": "cf469c06",
   "metadata": {},
   "outputs": [],
   "source": [
    "X = np.load(os.path.join(\"preprocessing\", \"X_word.npy\"), allow_pickle=True)\n",
    "y = np.load(os.path.join(\"preprocessing\", \"y_word.npy\"), allow_pickle=True)\n",
    "\n",
    "label_encoder = LabelEncoder()\n",
    "y_encoded = label_encoder.fit_transform(y)\n",
    "y_categorical = to_categorical(y_encoded)\n",
    "\n",
    "joblib.dump(label_encoder, os.path.join(\"preprocessing\", \"label_encoder_word.pkl\"))\n",
    "\n",
    "X_train, X_test, y_train, y_test = train_test_split(X, y_categorical, test_size=0.2, random_state=42)\n",
    "\n",
    "print(\"📊 Data shape:\", X_train.shape, y_train.shape)"
   ]
  },
  {
   "cell_type": "markdown",
   "id": "97c720c3",
   "metadata": {},
   "source": [
    "# Train"
   ]
  },
  {
   "cell_type": "code",
   "execution_count": null,
   "id": "1c0119b9",
   "metadata": {},
   "outputs": [],
   "source": [
    "import tensorflow as tf # type: ignore\n",
    "from tensorflow.keras.models import Sequential # type: ignore\n",
    "from tensorflow.keras.layers import LSTM, Dense, Dropout # type: ignore\n",
    "from tensorflow.keras.callbacks import EarlyStopping # type: ignore\n",
    "import matplotlib.pyplot as plt # type: ignore\n",
    "import pickle"
   ]
  },
  {
   "cell_type": "code",
   "execution_count": null,
   "id": "9e0847fe",
   "metadata": {},
   "outputs": [],
   "source": [
    "# --- Model ---\n",
    "model = Sequential([\n",
    "    LSTM(128, return_sequences=True, input_shape=(30, 63)),\n",
    "    LSTM(64),\n",
    "    Dense(64, activation='relu'),\n",
    "    Dropout(0.3),\n",
    "    Dense(y_categorical.shape[1], activation='softmax')\n",
    "])"
   ]
  },
  {
   "cell_type": "code",
   "execution_count": null,
   "id": "a3f0850e",
   "metadata": {},
   "outputs": [],
   "source": [
    "model.compile(optimizer='adam', loss='categorical_crossentropy', metrics=['accuracy'])\n",
    "model.summary()"
   ]
  },
  {
   "cell_type": "code",
   "execution_count": null,
   "id": "2e74bb0f",
   "metadata": {},
   "outputs": [],
   "source": [
    "# --- Callback ---\n",
    "early_stop = EarlyStopping(\n",
    "    monitor='val_loss',\n",
    "    patience=10,\n",
    "    restore_best_weights=True,\n",
    "    verbose=1\n",
    ")"
   ]
  },
  {
   "cell_type": "code",
   "execution_count": null,
   "id": "8fa50f29",
   "metadata": {},
   "outputs": [],
   "source": [
    "# --- Training ---\n",
    "history = model.fit(\n",
    "    X_train, y_train,\n",
    "    validation_data=(X_test, y_test),\n",
    "    epochs=50,\n",
    "    batch_size=16,\n",
    "    callbacks=[early_stop],\n",
    "    verbose=1\n",
    ")"
   ]
  },
  {
   "cell_type": "code",
   "execution_count": null,
   "id": "9103384d",
   "metadata": {},
   "outputs": [],
   "source": [
    "# --- Plot Training ---\n",
    "plt.figure(figsize=(10, 4))\n",
    "\n",
    "# Accuracy plot\n",
    "plt.subplot(1, 2, 1)\n",
    "plt.plot(history.history['accuracy'], label='Train Accuracy', linewidth=2)\n",
    "plt.plot(history.history['val_accuracy'], label='Val Accuracy', linestyle='--')\n",
    "plt.title('Model Accuracy')\n",
    "plt.xlabel('Epoch')\n",
    "plt.ylabel('Accuracy')\n",
    "plt.legend()\n",
    "\n",
    "# Loss plot\n",
    "plt.subplot(1, 2, 2)\n",
    "plt.plot(history.history['loss'], label='Train Loss', linewidth=2)\n",
    "plt.plot(history.history['val_loss'], label='Val Loss', linestyle='--')\n",
    "plt.title('Model Loss')\n",
    "plt.xlabel('Epoch')\n",
    "plt.ylabel('Loss')\n",
    "plt.legend()\n",
    "\n",
    "plt.tight_layout()\n",
    "plt.show()"
   ]
  },
  {
   "cell_type": "code",
   "execution_count": null,
   "id": "61cad560",
   "metadata": {},
   "outputs": [],
   "source": [
    "os.makedirs(\"models\", exist_ok=True)\n",
    "\n",
    "model_path = os.path.join(\"models\", f\"{model_name}.keras\")\n",
    "label_path = os.path.join(\"models\", f\"{model_name}_label.pkl\")\n",
    "\n",
    "model.save(model_path)\n",
    "\n",
    "with open(label_path, \"wb\") as f:\n",
    "    pickle.dump(label_encoder, f)\n",
    "\n",
    "print(f\"✅ Model disimpan sebagai {model_path}\")\n",
    "print(f\"✅ Label encoder disimpan sebagai {label_path}\")\n"
   ]
  },
  {
   "cell_type": "code",
   "execution_count": null,
   "id": "e1d57b0c",
   "metadata": {},
   "outputs": [],
   "source": [
    "os.makedirs(\"models\", exist_ok=True)\n",
    "\n",
    "converter = tf.lite.TFLiteConverter.from_keras_model(model)\n",
    "tflite_model = converter.convert()\n",
    "\n",
    "tflite_path = os.path.join(\"models\", f\"{model_name}.tflite\")\n",
    "\n",
    "with open(tflite_path, \"wb\") as f:\n",
    "    f.write(tflite_model)"
   ]
  }
 ],
 "metadata": {
  "kernelspec": {
   "display_name": "aienv",
   "language": "python",
   "name": "python3"
  },
  "language_info": {
   "codemirror_mode": {
    "name": "ipython",
    "version": 3
   },
   "file_extension": ".py",
   "mimetype": "text/x-python",
   "name": "python",
   "nbconvert_exporter": "python",
   "pygments_lexer": "ipython3",
   "version": "3.8.10"
  }
 },
 "nbformat": 4,
 "nbformat_minor": 5
}
