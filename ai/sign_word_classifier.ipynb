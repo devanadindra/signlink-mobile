{
 "cells": [
  {
   "cell_type": "markdown",
   "id": "445ddb57",
   "metadata": {},
   "source": [
    "# import and constant"
   ]
  },
  {
   "cell_type": "code",
   "execution_count": 2,
   "id": "48f79c79",
   "metadata": {},
   "outputs": [],
   "source": [
    "import os\n",
    "import cv2 # type: ignore\n",
    "import numpy as np # type: ignore\n",
    "from tqdm import tqdm # type: ignore\n",
    "import mediapipe as mp # type: ignore\n",
    "from sklearn.model_selection import train_test_split # type: ignore\n",
    "from sklearn.preprocessing import LabelEncoder # type: ignore\n",
    "from tensorflow.keras.utils import to_categorical # type: ignore\n",
    "import joblib # type: ignore"
   ]
  },
  {
   "cell_type": "code",
   "execution_count": 3,
   "id": "1ff4fc09",
   "metadata": {},
   "outputs": [],
   "source": [
    "dataset_dir = './dataset_word'\n",
    "model_name = 'sign_classifier_word'"
   ]
  },
  {
   "cell_type": "code",
   "execution_count": 4,
   "id": "3f7a637f",
   "metadata": {},
   "outputs": [
    {
     "name": "stdout",
     "output_type": "stream",
     "text": [
      "TensorFlow Version: 2.19.1\n",
      "Num GPUs Available:  1\n"
     ]
    }
   ],
   "source": [
    "import tensorflow as tf\n",
    "print(f\"TensorFlow Version: {tf.__version__}\")\n",
    "print(\"Num GPUs Available: \", len(tf.config.list_physical_devices('GPU')))"
   ]
  },
  {
   "cell_type": "markdown",
   "id": "93ff56fb",
   "metadata": {},
   "source": [
    "# Dataset"
   ]
  },
  {
   "cell_type": "code",
   "execution_count": 5,
   "id": "d3980295",
   "metadata": {},
   "outputs": [
    {
     "name": "stdout",
     "output_type": "stream",
     "text": [
      "  % Total    % Received % Xferd  Average Speed   Time    Time     Time  Current\n",
      "                                 Dload  Upload   Total   Spent    Left  Speed\n",
      "  0     0    0     0    0     0      0      0 --:--:-- --:--:-- --:--:--     0\n",
      "100  719M  100  719M    0     0  10.4M      0  0:01:08  0:01:08 --:--:-- 10.9M.9M    0  0:01:09  0:00:56  0:00:13 10.8M\n"
     ]
    }
   ],
   "source": [
    "!curl -L -o ./bisindo-40-kata-mp4.zip\\\n",
    "  https://www.kaggle.com/api/v1/datasets/download/anggiyohanespardede/bisindo-40-kata-mp4"
   ]
  },
  {
   "cell_type": "code",
   "execution_count": 6,
   "id": "fd44b12f",
   "metadata": {},
   "outputs": [
    {
     "name": "stdout",
     "output_type": "stream",
     "text": [
      "📦 Ekstraksi dataset dari ./bisindo-40-kata-mp4.zip ...\n",
      "✅ Dataset berhasil diekstrak ke ./\n"
     ]
    }
   ],
   "source": [
    "import zipfile\n",
    "import os\n",
    "import platform\n",
    "\n",
    "zip_path = \"./bisindo-40-kata-mp4.zip\"\n",
    "extract_dir = \"./\"\n",
    "\n",
    "if not os.path.exists(zip_path):\n",
    "    raise FileNotFoundError(f\"❌ File tidak ditemukan: {zip_path}\")\n",
    "\n",
    "print(f\"📦 Ekstraksi dataset dari {zip_path} ...\")\n",
    "if platform.system() in [\"Windows\", \"Darwin\", \"Linux\"]:\n",
    "    with zipfile.ZipFile(zip_path, 'r') as zip_ref:\n",
    "        zip_ref.extractall(extract_dir)\n",
    "    print(f\"✅ Dataset berhasil diekstrak ke {extract_dir}\")\n",
    "else:\n",
    "    print(f\"⚠️ OS {platform.system()} belum dikenali, pastikan unzip dilakukan manual.\")\n"
   ]
  },
  {
   "cell_type": "code",
   "execution_count": 7,
   "id": "0afaceb4",
   "metadata": {},
   "outputs": [
    {
     "name": "stdout",
     "output_type": "stream",
     "text": [
      "📂 Memindahkan isi dari 'raw_video' ke './dataset_word' ...\n",
      "✅ Semua isi dari 'raw_video' berhasil dipindahkan ke './dataset_word'\n"
     ]
    }
   ],
   "source": [
    "import os\n",
    "import shutil\n",
    "\n",
    "src_dir = \"raw_video\"\n",
    "dst_dir = dataset_dir\n",
    "\n",
    "if not os.path.exists(src_dir):\n",
    "    raise FileNotFoundError(f\"❌ Folder sumber tidak ditemukan: {src_dir}\")\n",
    "\n",
    "os.makedirs(dst_dir, exist_ok=True)\n",
    "\n",
    "print(f\"📂 Memindahkan isi dari '{src_dir}' ke '{dst_dir}' ...\")\n",
    "\n",
    "for item in os.listdir(src_dir):\n",
    "    src_path = os.path.join(src_dir, item)\n",
    "    dst_path = os.path.join(dst_dir, item)\n",
    "    \n",
    "    if os.path.exists(dst_path):\n",
    "        if os.path.isdir(dst_path):\n",
    "            shutil.rmtree(dst_path)\n",
    "        else:\n",
    "            os.remove(dst_path)\n",
    "\n",
    "    shutil.move(src_path, dst_path)\n",
    "\n",
    "print(f\"✅ Semua isi dari '{src_dir}' berhasil dipindahkan ke '{dst_dir}'\")\n"
   ]
  },
  {
   "cell_type": "code",
   "execution_count": 8,
   "id": "d30e1971",
   "metadata": {},
   "outputs": [
    {
     "name": "stdout",
     "output_type": "stream",
     "text": [
      "🗑️ Menghapus folder: ./raw_video\n",
      "✅ Folder berhasil dihapus.\n"
     ]
    }
   ],
   "source": [
    "import shutil\n",
    "import os\n",
    "\n",
    "folder_path = \"./raw_video\"\n",
    "\n",
    "if os.path.exists(folder_path):\n",
    "    print(f\"🗑️ Menghapus folder: {folder_path}\")\n",
    "    shutil.rmtree(folder_path)\n",
    "    print(\"✅ Folder berhasil dihapus.\")\n",
    "else:\n",
    "    print(\"⚠️ Folder tidak ditemukan, tidak ada yang dihapus.\")"
   ]
  },
  {
   "cell_type": "code",
   "execution_count": null,
   "id": "0126cf61",
   "metadata": {},
   "outputs": [
    {
     "name": "stderr",
     "output_type": "stream",
     "text": [
      "INFO: Created TensorFlow Lite XNNPACK delegate for CPU.\n"
     ]
    }
   ],
   "source": [
    "mp_hands = mp.solutions.hands\n",
    "hands = mp_hands.Hands(\n",
    "    static_image_mode=False,\n",
    "    max_num_hands=2,\n",
    "    min_detection_confidence=0.5,\n",
    "    min_tracking_confidence=0.5\n",
    ")"
   ]
  },
  {
   "cell_type": "code",
   "execution_count": 6,
   "id": "1158f61b",
   "metadata": {},
   "outputs": [
    {
     "name": "stdout",
     "output_type": "stream",
     "text": [
      "🎬 Mulai ekstraksi keypoint dari video...\n",
      "\n"
     ]
    },
    {
     "name": "stderr",
     "output_type": "stream",
     "text": [
      "100%|██████████| 40/40 [1:00:06<00:00, 90.16s/it]\n"
     ]
    },
    {
     "name": "stdout",
     "output_type": "stream",
     "text": [
      "\n",
      "✅ Ekstraksi selesai:\n",
      "📁 Data disimpan ke: preprocessing/X_word.npy\n",
      "🏷️ Label disimpan ke: preprocessing/y_word.npy\n",
      "🧩 Jumlah sampel: 2000\n"
     ]
    }
   ],
   "source": [
    "data = []\n",
    "labels = []\n",
    "\n",
    "print(\"🎬 Mulai ekstraksi keypoint dari video...\\n\")\n",
    "\n",
    "for label_folder in tqdm(sorted(os.listdir(dataset_dir))):\n",
    "    folder_path = os.path.join(dataset_dir, label_folder)\n",
    "    if not os.path.isdir(folder_path):\n",
    "        continue\n",
    "\n",
    "    for file in os.listdir(folder_path):\n",
    "        if not file.lower().endswith(\".mp4\"):\n",
    "            continue\n",
    "\n",
    "        video_path = os.path.join(folder_path, file)\n",
    "        cap = cv2.VideoCapture(video_path)\n",
    "\n",
    "        keypoints_seq = []\n",
    "        while True:\n",
    "            ret, frame = cap.read()\n",
    "            if not ret:\n",
    "                break\n",
    "\n",
    "            frame = cv2.cvtColor(frame, cv2.COLOR_BGR2RGB)\n",
    "            results = hands.process(frame)\n",
    "\n",
    "            hand_keypoints = []\n",
    "\n",
    "            if results.multi_hand_landmarks:\n",
    "                for hand_landmarks in results.multi_hand_landmarks[:2]:  # ambil max 2 tangan\n",
    "                    hand = [lm_coord for lm in hand_landmarks.landmark for lm_coord in (lm.x, lm.y, lm.z)]\n",
    "                    hand_keypoints.append(hand)\n",
    "\n",
    "            # pastikan selalu ada 2 tangan\n",
    "            while len(hand_keypoints) < 2:\n",
    "                hand_keypoints.append([0.0]*63)\n",
    "\n",
    "            keypoints = np.concatenate(hand_keypoints)\n",
    "            keypoints_seq.append(keypoints)\n",
    "\n",
    "        cap.release()\n",
    "\n",
    "        # pad atau trim sequence\n",
    "        keypoints_seq = np.array(keypoints_seq)\n",
    "        max_len = 30\n",
    "        if len(keypoints_seq) < max_len:\n",
    "            pad = np.zeros((max_len - len(keypoints_seq), keypoints_seq.shape[1]))\n",
    "            keypoints_seq = np.vstack((keypoints_seq, pad))\n",
    "        elif len(keypoints_seq) > max_len:\n",
    "            keypoints_seq = keypoints_seq[:max_len]\n",
    "\n",
    "        data.append(keypoints_seq)\n",
    "        labels.append(label_folder)\n",
    "\n",
    "os.makedirs(\"preprocessing\", exist_ok=True)\n",
    "\n",
    "output_X_path = os.path.join(\"preprocessing\", \"X_word.npy\")\n",
    "output_y_path = os.path.join(\"preprocessing\", \"y_word.npy\")\n",
    "\n",
    "np.save(output_X_path, np.array(data))\n",
    "np.save(output_y_path, np.array(labels))\n",
    "\n",
    "print(f\"\\n✅ Ekstraksi selesai:\")\n",
    "print(f\"📁 Data disimpan ke: {output_X_path}\")\n",
    "print(f\"🏷️ Label disimpan ke: {output_y_path}\")\n",
    "print(f\"🧩 Jumlah sampel: {len(data)}\")"
   ]
  },
  {
   "cell_type": "code",
   "execution_count": 47,
   "id": "cf469c06",
   "metadata": {},
   "outputs": [
    {
     "name": "stdout",
     "output_type": "stream",
     "text": [
      "📊 Data shape: (1600, 30, 126) (1600, 40)\n"
     ]
    }
   ],
   "source": [
    "X = np.load(os.path.join(\"preprocessing\", \"X_word.npy\"), allow_pickle=True)\n",
    "y = np.load(os.path.join(\"preprocessing\", \"y_word.npy\"), allow_pickle=True)\n",
    "\n",
    "label_encoder = LabelEncoder()\n",
    "y_encoded = label_encoder.fit_transform(y)\n",
    "y_categorical = to_categorical(y_encoded)\n",
    "\n",
    "joblib.dump(label_encoder, os.path.join(\"preprocessing\", \"label_encoder_word.pkl\"))\n",
    "\n",
    "X_train, X_test, y_train, y_test = train_test_split(X, y_categorical, test_size=0.2, random_state=42)\n",
    "\n",
    "print(\"📊 Data shape:\", X_train.shape, y_train.shape)"
   ]
  },
  {
   "cell_type": "markdown",
   "id": "97c720c3",
   "metadata": {},
   "source": [
    "# Train"
   ]
  },
  {
   "cell_type": "code",
   "execution_count": null,
   "id": "140621fe",
   "metadata": {},
   "outputs": [],
   "source": [
    "import tensorflow as tf\n",
    "from tensorflow.keras.models import Sequential\n",
    "from tensorflow.keras.layers import LSTM, Dense, Dropout\n",
    "from tensorflow.keras.callbacks import EarlyStopping\n",
    "from sklearn.model_selection import train_test_split\n",
    "import matplotlib.pyplot as plt\n",
    "import numpy as np\n",
    "import pickle"
   ]
  },
  {
   "cell_type": "code",
   "execution_count": null,
   "id": "1c0119b9",
   "metadata": {},
   "outputs": [],
   "source": [
    "# --- Model ---\n",
    "model = Sequential([\n",
    "    LSTM(128, input_shape=(30, 126)),\n",
    "    Dense(64, activation='relu'),\n",
    "    Dropout(0.3),\n",
    "    Dense(40, activation='softmax')\n",
    "])"
   ]
  },
  {
   "cell_type": "code",
   "execution_count": null,
   "id": "1c97f88a",
   "metadata": {},
   "outputs": [],
   "source": [
    "model.compile(optimizer='adam', loss='categorical_crossentropy', metrics=['accuracy'])\n",
    "model.summary()"
   ]
  },
  {
   "cell_type": "code",
   "execution_count": null,
   "id": "2df77545",
   "metadata": {},
   "outputs": [],
   "source": [
    "# --- Callback ---\n",
    "early_stop = EarlyStopping(\n",
    "    monitor='val_loss',\n",
    "    patience=10,\n",
    "    restore_best_weights=True,\n",
    "    verbose=1\n",
    ")"
   ]
  },
  {
   "cell_type": "code",
   "execution_count": null,
   "id": "1570239e",
   "metadata": {},
   "outputs": [],
   "source": [
    "# --- Training ---\n",
    "history = model.fit(\n",
    "    X_train, y_train,\n",
    "    validation_data=(X_test, y_test),\n",
    "    epochs=50,\n",
    "    batch_size=8,\n",
    "    callbacks=[early_stop],\n",
    "    verbose=1\n",
    ")"
   ]
  },
  {
   "cell_type": "code",
   "execution_count": null,
   "id": "9103384d",
   "metadata": {},
   "outputs": [],
   "source": [
    "# --- Plot Training ---\n",
    "plt.figure(figsize=(10, 4))\n",
    "\n",
    "# Accuracy plot\n",
    "plt.subplot(1, 2, 1)\n",
    "plt.plot(history.history['accuracy'], label='Train Accuracy', linewidth=2)\n",
    "plt.plot(history.history['val_accuracy'], label='Val Accuracy', linestyle='--')\n",
    "plt.title('Model Accuracy')\n",
    "plt.xlabel('Epoch')\n",
    "plt.ylabel('Accuracy')\n",
    "plt.legend()\n",
    "\n",
    "# Loss plot\n",
    "plt.subplot(1, 2, 2)\n",
    "plt.plot(history.history['loss'], label='Train Loss', linewidth=2)\n",
    "plt.plot(history.history['val_loss'], label='Val Loss', linestyle='--')\n",
    "plt.title('Model Loss')\n",
    "plt.xlabel('Epoch')\n",
    "plt.ylabel('Loss')\n",
    "plt.legend()\n",
    "\n",
    "plt.tight_layout()\n",
    "plt.show()"
   ]
  },
  {
   "cell_type": "code",
   "execution_count": null,
   "id": "61cad560",
   "metadata": {},
   "outputs": [],
   "source": [
    "os.makedirs(\"models\", exist_ok=True)\n",
    "\n",
    "model_path = os.path.join(\"models\", f\"{model_name}.keras\")\n",
    "label_path = os.path.join(\"models\", f\"{model_name}_label.pkl\")\n",
    "\n",
    "model.save(model_path)\n",
    "\n",
    "with open(label_path, \"wb\") as f:\n",
    "    pickle.dump(label_encoder, f)\n",
    "\n",
    "print(f\"✅ Model disimpan sebagai {model_path}\")\n",
    "print(f\"✅ Label encoder disimpan sebagai {label_path}\")\n"
   ]
  },
  {
   "cell_type": "code",
   "execution_count": null,
   "id": "e1d57b0c",
   "metadata": {},
   "outputs": [],
   "source": [
    "os.makedirs(\"models\", exist_ok=True)\n",
    "\n",
    "converter = tf.lite.TFLiteConverter.from_keras_model(model)\n",
    "tflite_model = converter.convert()\n",
    "\n",
    "tflite_path = os.path.join(\"models\", f\"{model_name}.tflite\")\n",
    "\n",
    "with open(tflite_path, \"wb\") as f:\n",
    "    f.write(tflite_model)"
   ]
  }
 ],
 "metadata": {
  "kernelspec": {
   "display_name": "tf_cuda13",
   "language": "python",
   "name": "python3"
  },
  "language_info": {
   "codemirror_mode": {
    "name": "ipython",
    "version": 3
   },
   "file_extension": ".py",
   "mimetype": "text/x-python",
   "name": "python",
   "nbconvert_exporter": "python",
   "pygments_lexer": "ipython3",
   "version": "3.11.13"
  }
 },
 "nbformat": 4,
 "nbformat_minor": 5
}
